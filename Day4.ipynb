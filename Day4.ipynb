{
  "nbformat": 4,
  "nbformat_minor": 0,
  "metadata": {
    "colab": {
      "private_outputs": true,
      "provenance": [],
      "authorship_tag": "ABX9TyMSdoP0+smdrh/npD+oLmgf",
      "include_colab_link": true
    },
    "kernelspec": {
      "name": "python3",
      "display_name": "Python 3"
    },
    "language_info": {
      "name": "python"
    }
  },
  "cells": [
    {
      "cell_type": "markdown",
      "metadata": {
        "id": "view-in-github",
        "colab_type": "text"
      },
      "source": [
        "<a href=\"https://colab.research.google.com/github/RobAltena/AdventOfCode2023/blob/main/Day4.ipynb\" target=\"_parent\"><img src=\"https://colab.research.google.com/assets/colab-badge.svg\" alt=\"Open In Colab\"/></a>"
      ]
    },
    {
      "cell_type": "code",
      "execution_count": null,
      "metadata": {
        "id": "ghL_Bjgo1p0k"
      },
      "outputs": [],
      "source": [
        "import requests\n",
        "import numpy as np\n",
        "\n",
        "data = requests.get('https://raw.githubusercontent.com/RobAltena/AdventOfCode2023/main/advent_day4_input.txt').text\n",
        "\n",
        "lines = data.split('\\n')[:-1]"
      ]
    },
    {
      "cell_type": "code",
      "source": [
        "# part 1\n",
        "\n",
        "def parseline(l):\n",
        "    id, numbers = l.split(':')\n",
        "    winning , my = numbers.split('|')\n",
        "    winset = set(map(int, winning.split()))\n",
        "    myset = set(map(int, my.split()))\n",
        "    winners = len(myset.intersection(winset))\n",
        "    score = int(2**(winners-1))\n",
        "    return score\n",
        "\n",
        "print(sum(map(parseline, lines)))"
      ],
      "metadata": {
        "id": "k6BF38Ni1zm9"
      },
      "execution_count": null,
      "outputs": []
    },
    {
      "cell_type": "code",
      "source": [
        "# part 2\n",
        "card_counts = np.ones(len(lines),  dtype=int)\n",
        "\n",
        "def parseline_part2 (index, l):\n",
        "    _ , numbers = l.split(':')\n",
        "    winning , my = numbers.split('|')\n",
        "    winset = set(map(int, winning.split()))\n",
        "    myset = set(map(int, my.split()))\n",
        "    winners = len(myset.intersection(winset))\n",
        "    i_min = index + 1\n",
        "    i_max = i_min + winners #No need to check for out of bounds,\n",
        "\n",
        "    card_counts[i_min : i_max] +=  card_counts[index]\n",
        "\n",
        "for index, line in enumerate(lines):\n",
        "     parseline_part2(index, line)\n",
        "     # print (index, line, card_counts)\n",
        "\n",
        "print(card_counts.sum())"
      ],
      "metadata": {
        "id": "pxXOEJe316V4"
      },
      "execution_count": null,
      "outputs": []
    }
  ]
}