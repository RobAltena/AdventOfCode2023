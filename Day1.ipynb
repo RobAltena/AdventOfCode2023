{
  "nbformat": 4,
  "nbformat_minor": 0,
  "metadata": {
    "colab": {
      "private_outputs": true,
      "provenance": [],
      "authorship_tag": "ABX9TyNN1vcj1t+jAxDUDJFeVSrp",
      "include_colab_link": true
    },
    "kernelspec": {
      "name": "python3",
      "display_name": "Python 3"
    },
    "language_info": {
      "name": "python"
    }
  },
  "cells": [
    {
      "cell_type": "markdown",
      "metadata": {
        "id": "view-in-github",
        "colab_type": "text"
      },
      "source": [
        "<a href=\"https://colab.research.google.com/github/RobAltena/AdventOfCode2023/blob/main/Day1.ipynb\" target=\"_parent\"><img src=\"https://colab.research.google.com/assets/colab-badge.svg\" alt=\"Open In Colab\"/></a>"
      ]
    },
    {
      "cell_type": "code",
      "execution_count": null,
      "metadata": {
        "id": "Q8qmQkoD04KK"
      },
      "outputs": [],
      "source": [
        "import requests\n",
        "import re\n",
        "\n",
        "data = requests.get('https://raw.githubusercontent.com/RobAltena/AdventOfCode2023/main/advent_day1_input.txt').text"
      ]
    },
    {
      "cell_type": "code",
      "source": [
        "# Part one: Look for those first and last digits.\n",
        "sum(map(lambda x: int(re.search(r'\\d', x)[0] + re.search(r'(\\d)\\D*$', x)[0][0]), data.split()))"
      ],
      "metadata": {
        "id": "iO9bT16X1DWQ"
      },
      "execution_count": null,
      "outputs": []
    },
    {
      "cell_type": "code",
      "source": [
        "# Part two: easier to get all matches, then get the numbers for the first and last.\n",
        "number_map = { 'one': '1', 'two': '2', 'three': '3', 'four': '4', 'five': '5', 'six': '6', 'seven': '7', 'eight': '8', 'nine': '9'}\n",
        "regex  = re.compile('(?=(' + '|'.join(number_map.keys()) + '|\\d))')\n",
        "\n",
        "def getpart2Digits(s):\n",
        "    y = regex.findall(s)\n",
        "    return int(number_map.get(y[0], y[0]) + number_map.get(y[-1], y[-1]))\n",
        "\n",
        "sum(map(getpart2Digits, data.split()))"
      ],
      "metadata": {
        "id": "-8EvswWV1QYR"
      },
      "execution_count": null,
      "outputs": []
    }
  ]
}