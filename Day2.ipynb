{
  "nbformat": 4,
  "nbformat_minor": 0,
  "metadata": {
    "colab": {
      "private_outputs": true,
      "provenance": [],
      "authorship_tag": "ABX9TyOsX94RC/OCdVPYEw7WJZ7V",
      "include_colab_link": true
    },
    "kernelspec": {
      "name": "python3",
      "display_name": "Python 3"
    },
    "language_info": {
      "name": "python"
    }
  },
  "cells": [
    {
      "cell_type": "markdown",
      "metadata": {
        "id": "view-in-github",
        "colab_type": "text"
      },
      "source": [
        "<a href=\"https://colab.research.google.com/github/RobAltena/AdventOfCode2023/blob/main/Day2.ipynb\" target=\"_parent\"><img src=\"https://colab.research.google.com/assets/colab-badge.svg\" alt=\"Open In Colab\"/></a>"
      ]
    },
    {
      "cell_type": "code",
      "execution_count": null,
      "metadata": {
        "id": "R36IBh3pWDIZ"
      },
      "outputs": [],
      "source": [
        "import requests\n",
        "import re\n",
        "\n",
        "data = requests.get('https://raw.githubusercontent.com/RobAltena/AdventOfCode2023/main/advent_day2_input.txt').text\n",
        "\n",
        "\n",
        "#Part 1\n",
        "the_bag = {'red': 12, 'green': 13, 'blue':14}\n",
        "\n",
        "def parseSet(s):\n",
        "    result = {}\n",
        "    for cube in s.split(','):\n",
        "        value, key = cube.strip().split(' ')\n",
        "        result[key] = int(value)\n",
        "\n",
        "    return result\n",
        "\n",
        "def parseline(s):\n",
        "    game_id, results = s.split(':')\n",
        "    id = int(game_id[4:])\n",
        "    subsets = results.split(';')\n",
        "\n",
        "    return id, list(map(parseSet, subsets))\n",
        "\n",
        "def checkGame(x):\n",
        "    id, subsets = x\n",
        "    for d in subsets:\n",
        "        for key, value in d.items():\n",
        "            if the_bag.get(key, 0) < value :\n",
        "                return 0\n",
        "    return id\n",
        "\n",
        "#Make the actual list. We need it in part 2.\n",
        "parsed_data = list(map(parseline, data.split('\\n')[:-1]))\n",
        "\n",
        "\n",
        "#answer:\n",
        "sum(map(checkGame, parsed_data))"
      ]
    },
    {
      "cell_type": "code",
      "source": [
        "#Part 2\n",
        "def calcpower(x):\n",
        "    id, subsets = x\n",
        "    power = 1\n",
        "    for key in the_bag.keys():\n",
        "        l = []\n",
        "        for d in subsets:\n",
        "            l.append(d.get(key, 0))\n",
        "\n",
        "        power = power * max(l)\n",
        "    return power\n",
        "\n",
        "sum(map(calcpower,parsed_data))"
      ],
      "metadata": {
        "id": "Sz0p6FiSWbam"
      },
      "execution_count": null,
      "outputs": []
    }
  ]
}